{
  "nbformat": 4,
  "nbformat_minor": 0,
  "metadata": {
    "colab": {
      "provenance": [],
      "gpuClass": "premium",
      "include_colab_link": true
    },
    "kernelspec": {
      "name": "python3",
      "display_name": "Python 3"
    },
    "language_info": {
      "name": "python"
    },
    "accelerator": "GPU",
    "gpuClass": "premium"
  },
  "cells": [
    {
      "cell_type": "markdown",
      "metadata": {
        "id": "view-in-github",
        "colab_type": "text"
      },
      "source": [
        "<a href=\"https://colab.research.google.com/github/andreea003/beta-version/blob/main/Alzheimer_ViT.ipynb\" target=\"_parent\"><img src=\"https://colab.research.google.com/assets/colab-badge.svg\" alt=\"Open In Colab\"/></a>"
      ]
    },
    {
      "cell_type": "code",
      "source": [
        "from google.colab import drive\n",
        "drive.mount('/content/drive')"
      ],
      "metadata": {
        "id": "n-i4n93k5tsV",
        "colab": {
          "base_uri": "https://localhost:8080/"
        },
        "outputId": "40ac3c2f-3ad0-4a10-d806-a5767c88334c"
      },
      "execution_count": null,
      "outputs": [
        {
          "output_type": "stream",
          "name": "stdout",
          "text": [
            "Mounted at /content/drive\n"
          ]
        }
      ]
    },
    {
      "cell_type": "code",
      "source": [
        "!unzip 'ADNI.zip' -d '/content/Data/'\n",
        "# !unzip '/content/drive/MyDrive/generated_augmented.zip' -d '/content/Data/'"
      ],
      "metadata": {
        "id": "o9Nds9AW7N4v",
        "colab": {
          "base_uri": "https://localhost:8080/"
        },
        "outputId": "a14b34f4-2d20-440f-ec18-040b02b63041",
        "collapsed": true
      },
      "execution_count": null,
      "outputs": [
        {
          "output_type": "stream",
          "name": "stdout",
          "text": [
            "Archive:  ADNI.zip\n",
            "   creating: /content/Data/ADNI/AD/\n",
            "  inflating: /content/Data/ADNI/AD/1.png  \n",
            "  inflating: /content/Data/ADNI/AD/10.png  \n",
            "  inflating: /content/Data/ADNI/AD/11.png  \n",
            "  inflating: /content/Data/ADNI/AD/12.png  \n",
            "  inflating: /content/Data/ADNI/AD/13.png  \n",
            "  inflating: /content/Data/ADNI/AD/14.png  \n",
            "  inflating: /content/Data/ADNI/AD/15.png  \n",
            "  inflating: /content/Data/ADNI/AD/16.png  \n",
            "  inflating: /content/Data/ADNI/AD/17.png  \n",
            "  inflating: /content/Data/ADNI/AD/18.png  \n",
            "  inflating: /content/Data/ADNI/AD/19.png  \n",
            "  inflating: /content/Data/ADNI/AD/2.png  \n",
            "  inflating: /content/Data/ADNI/AD/20.png  \n",
            "  inflating: /content/Data/ADNI/AD/21.png  \n",
            "  inflating: /content/Data/ADNI/AD/22.png  \n",
            "  inflating: /content/Data/ADNI/AD/23.png  \n",
            "  inflating: /content/Data/ADNI/AD/24.png  \n",
            "  inflating: /content/Data/ADNI/AD/25.png  \n",
            "  inflating: /content/Data/ADNI/AD/26.png  \n",
            "  inflating: /content/Data/ADNI/AD/27.png  \n",
            "  inflating: /content/Data/ADNI/AD/28.png  \n",
            "  inflating: /content/Data/ADNI/AD/29.png  \n",
            "  inflating: /content/Data/ADNI/AD/3.png  \n",
            "  inflating: /content/Data/ADNI/AD/30.png  \n",
            "  inflating: /content/Data/ADNI/AD/4.png  \n",
            "  inflating: /content/Data/ADNI/AD/5.png  \n",
            "  inflating: /content/Data/ADNI/AD/6.png  \n",
            "  inflating: /content/Data/ADNI/AD/7.png  \n",
            "  inflating: /content/Data/ADNI/AD/8.png  \n",
            "  inflating: /content/Data/ADNI/AD/9.png  \n",
            "   creating: /content/Data/ADNI/HC/\n",
            "  inflating: /content/Data/ADNI/HC/1.png  \n",
            "  inflating: /content/Data/ADNI/HC/10.png  \n",
            "  inflating: /content/Data/ADNI/HC/2.png  \n",
            "  inflating: /content/Data/ADNI/HC/3.png  \n",
            "  inflating: /content/Data/ADNI/HC/4.png  \n",
            "  inflating: /content/Data/ADNI/HC/5.png  \n",
            "  inflating: /content/Data/ADNI/HC/6.png  \n",
            "  inflating: /content/Data/ADNI/HC/7.png  \n",
            "  inflating: /content/Data/ADNI/HC/8.png  \n",
            "  inflating: /content/Data/ADNI/HC/9.png  \n",
            "  inflating: /content/Data/ADNI/HC/hemlo (1).png  \n",
            "  inflating: /content/Data/ADNI/HC/hemlo (10).png  \n",
            "  inflating: /content/Data/ADNI/HC/hemlo (2).png  \n",
            "  inflating: /content/Data/ADNI/HC/hemlo (3).png  \n",
            "  inflating: /content/Data/ADNI/HC/hemlo (4).png  \n",
            "  inflating: /content/Data/ADNI/HC/hemlo (5).png  \n",
            "  inflating: /content/Data/ADNI/HC/hemlo (6).png  \n",
            "  inflating: /content/Data/ADNI/HC/hemlo (7).png  \n",
            "  inflating: /content/Data/ADNI/HC/hemlo (8).png  \n",
            "  inflating: /content/Data/ADNI/HC/hemlo (9).png  \n",
            "  inflating: /content/Data/ADNI/HC/rename (1).png  \n",
            "  inflating: /content/Data/ADNI/HC/rename (10).png  \n",
            "  inflating: /content/Data/ADNI/HC/rename (2).png  \n",
            "  inflating: /content/Data/ADNI/HC/rename (3).png  \n",
            "  inflating: /content/Data/ADNI/HC/rename (4).png  \n",
            "  inflating: /content/Data/ADNI/HC/rename (5).png  \n",
            "  inflating: /content/Data/ADNI/HC/rename (6).png  \n",
            "  inflating: /content/Data/ADNI/HC/rename (7).png  \n",
            "  inflating: /content/Data/ADNI/HC/rename (8).png  \n",
            "  inflating: /content/Data/ADNI/HC/rename (9).png  \n",
            "   creating: /content/Data/ADNI/MCI/\n",
            "  inflating: /content/Data/ADNI/MCI/1.png  \n",
            "  inflating: /content/Data/ADNI/MCI/10.png  \n",
            "  inflating: /content/Data/ADNI/MCI/2.png  \n",
            "  inflating: /content/Data/ADNI/MCI/3.png  \n",
            "  inflating: /content/Data/ADNI/MCI/4.png  \n",
            "  inflating: /content/Data/ADNI/MCI/5.png  \n",
            "  inflating: /content/Data/ADNI/MCI/6.png  \n",
            "  inflating: /content/Data/ADNI/MCI/7.png  \n",
            "  inflating: /content/Data/ADNI/MCI/8.png  \n",
            "  inflating: /content/Data/ADNI/MCI/9.png  \n",
            "  inflating: /content/Data/ADNI/MCI/anuvab (1).png  \n",
            "  inflating: /content/Data/ADNI/MCI/anuvab (10).png  \n",
            "  inflating: /content/Data/ADNI/MCI/anuvab (2).png  \n",
            "  inflating: /content/Data/ADNI/MCI/anuvab (3).png  \n",
            "  inflating: /content/Data/ADNI/MCI/anuvab (4).png  \n",
            "  inflating: /content/Data/ADNI/MCI/anuvab (5).png  \n",
            "  inflating: /content/Data/ADNI/MCI/anuvab (6).png  \n",
            "  inflating: /content/Data/ADNI/MCI/anuvab (7).png  \n",
            "  inflating: /content/Data/ADNI/MCI/anuvab (8).png  \n",
            "  inflating: /content/Data/ADNI/MCI/anuvab (9).png  \n",
            "  inflating: /content/Data/ADNI/MCI/sad (1).png  \n",
            "  inflating: /content/Data/ADNI/MCI/sad (10).png  \n",
            "  inflating: /content/Data/ADNI/MCI/sad (2).png  \n",
            "  inflating: /content/Data/ADNI/MCI/sad (3).png  \n",
            "  inflating: /content/Data/ADNI/MCI/sad (4).png  \n",
            "  inflating: /content/Data/ADNI/MCI/sad (5).png  \n",
            "  inflating: /content/Data/ADNI/MCI/sad (6).png  \n",
            "  inflating: /content/Data/ADNI/MCI/sad (7).png  \n",
            "  inflating: /content/Data/ADNI/MCI/sad (8).png  \n",
            "  inflating: /content/Data/ADNI/MCI/sad (9).png  \n"
          ]
        }
      ]
    },
    {
      "cell_type": "code",
      "source": [
        "!mkdir '/content/Data/checkpoint'"
      ],
      "metadata": {
        "id": "rff3gJNSU1IJ"
      },
      "execution_count": null,
      "outputs": []
    },
    {
      "cell_type": "code",
      "source": [
        "import cv2\n",
        "import matplotlib.pyplot as plt\n",
        "import glob\n",
        "import tqdm\n",
        "from itertools import repeat\n",
        "\n",
        "PATH = '/content/Data/'\n",
        "ORIG_PATH = '/content/Data/ADNI/'\n",
        "# GEN_PATH = '/content/Data/generated_augmented/'"
      ],
      "metadata": {
        "id": "1wLH4HluOvK0"
      },
      "execution_count": null,
      "outputs": []
    },
    {
      "cell_type": "code",
      "source": [
        "import glob\n",
        "import cv2\n",
        "import numpy as np\n",
        "import tqdm\n",
        "from sklearn.model_selection import train_test_split\n",
        "\n",
        "# Define the target image size (e.g., 224x224 for ViT-B/32)\n",
        "target_image_size = (224, 224)\n",
        "\n",
        "# Initialize empty lists for data and labels\n",
        "y = []\n",
        "z = []\n",
        "\n",
        "# Load images and labels from subdirectories within ORIG_PATH\n",
        "for subdirectory in ['AD', 'HC', 'MCI']:  # List of subdirectory names\n",
        "    subdirectory_path = ORIG_PATH + subdirectory + '/'\n",
        "    image_files = glob.glob(subdirectory_path + '*')\n",
        "\n",
        "    if not image_files:\n",
        "        print(f\"No images found in {subdirectory_path}\")\n",
        "        continue\n",
        "\n",
        "    for img in tqdm.tqdm(image_files, desc=f'Loading {subdirectory}'):\n",
        "        img_data = cv2.imread(img)\n",
        "        if img_data is not None:\n",
        "            # Resize the image to the target size\n",
        "            img_data = cv2.resize(img_data, target_image_size)\n",
        "            z.append(img_data)\n",
        "            y.append(subdirectory)  # Use the subdirectory name as the label\n",
        "\n",
        "# Split data into training and testing sets (e.g., 80% training, 20% testing)\n",
        "x_train, x_test, y_train, y_test = train_test_split(z, y, test_size=0.2, random_state=42)\n",
        "\n",
        "# Print shapes of the training and testing sets\n",
        "print(\"Train\", np.array(x_train).shape)\n",
        "print(\"Train\", np.array(y_train).shape)\n",
        "np.save(PATH + 'x_train.npy', np.array(x_train))\n",
        "np.save(PATH + 'y_train.npy', np.array(y_train))\n",
        "\n",
        "print(\"Test\", np.array(x_test).shape)\n",
        "print(\"Test\", np.array(y_test).shape)\n",
        "np.save(PATH + 'x_test.npy', np.array(x_test))\n",
        "np.save(PATH + 'y_test.npy', np.array(y_test))\n"
      ],
      "metadata": {
        "colab": {
          "base_uri": "https://localhost:8080/"
        },
        "id": "MYZyQkBjQ_OD",
        "outputId": "673f44a2-fad3-4c37-b2f1-64f5ac50440d"
      },
      "execution_count": null,
      "outputs": [
        {
          "output_type": "stream",
          "name": "stderr",
          "text": [
            "Loading AD: 100%|██████████| 30/30 [00:00<00:00, 225.17it/s]\n",
            "Loading HC: 100%|██████████| 30/30 [00:00<00:00, 407.15it/s]\n",
            "Loading MCI: 100%|██████████| 30/30 [00:00<00:00, 458.75it/s]\n"
          ]
        },
        {
          "output_type": "stream",
          "name": "stdout",
          "text": [
            "Train (72, 224, 224, 3)\n",
            "Train (72,)\n",
            "Test (18, 224, 224, 3)\n",
            "Test (18,)\n"
          ]
        }
      ]
    },
    {
      "cell_type": "markdown",
      "source": [
        "**PREPROCESSING**"
      ],
      "metadata": {
        "id": "iqQphww48V3R"
      }
    },
    {
      "cell_type": "markdown",
      "source": [
        "**VIT TRAINING**"
      ],
      "metadata": {
        "id": "7XdYgXTG-VK5"
      }
    },
    {
      "cell_type": "code",
      "source": [
        "!pip install tensorflow-addons"
      ],
      "metadata": {
        "id": "oMiyY5MABLO0",
        "colab": {
          "base_uri": "https://localhost:8080/"
        },
        "outputId": "04706dd0-09d4-4e8d-d71b-56e8dfec9714"
      },
      "execution_count": null,
      "outputs": [
        {
          "output_type": "stream",
          "name": "stdout",
          "text": [
            "Collecting tensorflow-addons\n",
            "  Downloading tensorflow_addons-0.21.0-cp310-cp310-manylinux_2_17_x86_64.manylinux2014_x86_64.whl (612 kB)\n",
            "\u001b[2K     \u001b[90m━━━━━━━━━━━━━━━━━━━━━━━━━━━━━━━━━━━━━━━\u001b[0m \u001b[32m612.1/612.1 kB\u001b[0m \u001b[31m7.3 MB/s\u001b[0m eta \u001b[36m0:00:00\u001b[0m\n",
            "\u001b[?25hRequirement already satisfied: packaging in /usr/local/lib/python3.10/dist-packages (from tensorflow-addons) (23.1)\n",
            "Collecting typeguard<3.0.0,>=2.7 (from tensorflow-addons)\n",
            "  Downloading typeguard-2.13.3-py3-none-any.whl (17 kB)\n",
            "Installing collected packages: typeguard, tensorflow-addons\n",
            "Successfully installed tensorflow-addons-0.21.0 typeguard-2.13.3\n"
          ]
        }
      ]
    },
    {
      "cell_type": "code",
      "source": [],
      "metadata": {
        "id": "_Uh3pkN4yaNJ"
      },
      "execution_count": null,
      "outputs": []
    },
    {
      "cell_type": "markdown",
      "source": [
        "**VIT TRAINED ON ORIGINAL DATASET**"
      ],
      "metadata": {
        "id": "VouBa8ew-oA8"
      }
    },
    {
      "cell_type": "code",
      "source": [
        "from PIL import Image\n",
        "\n",
        "# Load an example image\n",
        "image = Image.open(\"/content/Data/ADNI/AD/5.png\")  # Replace \"example.jpg\" with your image file path\n",
        "\n",
        "# Get image dimensions\n",
        "width, height = image.size\n",
        "channels = 3  # Assuming it's an RGB image\n",
        "\n",
        "# Set the input shape\n",
        "input_shape = (height, width, channels)\n",
        "print(\"Input shape:\", input_shape)\n"
      ],
      "metadata": {
        "colab": {
          "base_uri": "https://localhost:8080/"
        },
        "id": "tsiK3ZTuHAUJ",
        "outputId": "d1aec14c-ae69-4c46-f286-05ad1150d125"
      },
      "execution_count": null,
      "outputs": [
        {
          "output_type": "stream",
          "name": "stdout",
          "text": [
            "Input shape: (256, 170, 3)\n"
          ]
        }
      ]
    },
    {
      "cell_type": "code",
      "source": [
        "import numpy as np\n",
        "import tensorflow as tf\n",
        "from tensorflow import keras\n",
        "from tensorflow.keras import layers\n",
        "import tensorflow_addons as tfa\n",
        "from sklearn.model_selection import train_test_split\n",
        "from sklearn import preprocessing\n",
        "\n",
        "num_classes = 3\n",
        "input_shape = (224, 224, 3)\n",
        "\n",
        "x_train,y_train = np.load(PATH+'x_train.npy'), np.load(PATH+'y_train.npy')\n",
        "label_encoder = preprocessing.LabelEncoder()\n",
        "y_train = label_encoder.fit_transform(y_train)\n",
        "print(x_train.shape,y_train.shape)\n",
        "\n",
        "x_test,y_test = np.load(PATH+'x_test.npy'), np.load(PATH+'y_test.npy')\n",
        "label_encoder = preprocessing.LabelEncoder()\n",
        "y_test = label_encoder.fit_transform(y_test)\n",
        "print(x_test.shape,y_test.shape)\n",
        "\n",
        "X = np.concatenate((x_train,x_test),axis=0)\n",
        "y = np.concatenate((y_train,y_test),axis=0)\n",
        "x_train, x_test, y_train, y_test = train_test_split(X,y,test_size=0.1)\n",
        "\n",
        "print(f\"x_train shape: {x_train.shape} - y_train shape: {y_train.shape}\")\n",
        "print(f\"x_test shape: {x_test.shape} - y_test shape: {y_test.shape}\")\n",
        "\n",
        "learning_rate = 0.001\n",
        "weight_decay = 0.0001\n",
        "batch_size = 256\n",
        "num_epochs = 100\n",
        "image_size = 72  # We'll resize input images to this size\n",
        "patch_size = 6   # Size of the patches to be extract from the input images\n",
        "num_patches = (image_size // patch_size) ** 2\n",
        "projection_dim = 64\n",
        "num_heads = 4\n",
        "transformer_units = [\n",
        "    projection_dim * 2,\n",
        "    projection_dim,\n",
        "]  # Size of the transformer layers\n",
        "transformer_layers = 8\n",
        "mlp_head_units = [2048, 1024]  # Size of the dense layers of the final classifier\n",
        "\n",
        "data_augmentation = keras.Sequential(\n",
        "    [\n",
        "        layers.Normalization(),\n",
        "        layers.Resizing(image_size, image_size),\n",
        "        layers.RandomFlip(\"horizontal\"),\n",
        "        layers.RandomRotation(factor=0.02),\n",
        "        layers.RandomZoom(\n",
        "            height_factor=0.2, width_factor=0.2\n",
        "        ),\n",
        "    ],\n",
        "    name=\"data_augmentation\",\n",
        ")\n",
        "# Compute the mean and the variance of the training data for normalization.\n",
        "data_augmentation.layers[0].adapt(x_train)\n",
        "\n",
        "def mlp(x, hidden_units, dropout_rate):\n",
        "    for units in hidden_units:\n",
        "        x = layers.Dense(units, activation=tf.nn.gelu)(x)\n",
        "        x = layers.Dropout(dropout_rate)(x)\n",
        "    return x\n",
        "\n",
        "class Patches(layers.Layer):\n",
        "    def __init__(self, patch_size):\n",
        "        super().__init__()\n",
        "        self.patch_size = patch_size\n",
        "\n",
        "    def call(self, images):\n",
        "        batch_size = tf.shape(images)[0]\n",
        "        patches = tf.image.extract_patches(\n",
        "            images=images,\n",
        "            sizes=[1, self.patch_size, self.patch_size, 1],\n",
        "            strides=[1, self.patch_size, self.patch_size, 1],\n",
        "            rates=[1, 1, 1, 1],\n",
        "            padding=\"VALID\",\n",
        "        )\n",
        "        patch_dims = patches.shape[-1]\n",
        "        patches = tf.reshape(patches, [batch_size, -1, patch_dims])\n",
        "        return patches\n",
        "\n",
        "import matplotlib.pyplot as plt\n",
        "\n",
        "plt.figure(figsize=(4, 4))\n",
        "image = x_train[np.random.choice(range(x_train.shape[0]))]\n",
        "plt.imshow(image.astype(\"uint8\"))\n",
        "plt.axis(\"off\")\n",
        "\n",
        "resized_image = tf.image.resize(\n",
        "    tf.convert_to_tensor([image]), size=(image_size, image_size)\n",
        ")\n",
        "patches = Patches(patch_size)(resized_image)\n",
        "print(f\"Image size: {image_size} X {image_size}\")\n",
        "print(f\"Patch size: {patch_size} X {patch_size}\")\n",
        "print(f\"Patches per image: {patches.shape[1]}\")\n",
        "print(f\"Elements per patch: {patches.shape[-1]}\")\n",
        "\n",
        "n = int(np.sqrt(patches.shape[1]))\n",
        "plt.figure(figsize=(4, 4))\n",
        "for i, patch in enumerate(patches[0]):\n",
        "    ax = plt.subplot(n, n, i + 1)\n",
        "    patch_img = tf.reshape(patch, (patch_size, patch_size, 3))\n",
        "    plt.imshow(patch_img.numpy().astype(\"uint8\"))\n",
        "    plt.axis(\"off\")\n",
        "\n",
        "class PatchEncoder(layers.Layer):\n",
        "    def __init__(self, num_patches, projection_dim):\n",
        "        super().__init__()\n",
        "        self.num_patches = num_patches\n",
        "        self.projection = layers.Dense(units=projection_dim)\n",
        "        self.position_embedding = layers.Embedding(\n",
        "            input_dim=num_patches, output_dim=projection_dim\n",
        "        )\n",
        "\n",
        "    def call(self, patch):\n",
        "        positions = tf.range(start=0, limit=self.num_patches, delta=1)\n",
        "        encoded = self.projection(patch) + self.position_embedding(positions)\n",
        "        return encoded\n",
        "\n",
        "def create_vit_classifier():\n",
        "    inputs = layers.Input(shape=input_shape)\n",
        "    # Augment data.\n",
        "    augmented = data_augmentation(inputs)\n",
        "    # Create patches.\n",
        "    patches = Patches(patch_size)(augmented)\n",
        "    # Encode patches.\n",
        "    encoded_patches = PatchEncoder(num_patches, projection_dim)(patches)\n",
        "\n",
        "    # Create multiple layers of the Transformer block.\n",
        "    for _ in range(transformer_layers):\n",
        "        # Layer normalization 1.\n",
        "        x1 = layers.LayerNormalization(epsilon=1e-6)(encoded_patches)\n",
        "        # Create a multi-head attention layer.\n",
        "        attention_output = layers.MultiHeadAttention(\n",
        "            num_heads=num_heads, key_dim=projection_dim, dropout=0.1\n",
        "        )(x1, x1)\n",
        "        # Skip connection 1.\n",
        "        x2 = layers.Add()([attention_output, encoded_patches])\n",
        "        # Layer normalization 2.\n",
        "        x3 = layers.LayerNormalization(epsilon=1e-6)(x2)\n",
        "        # MLP.\n",
        "        x3 = mlp(x3, hidden_units=transformer_units, dropout_rate=0.1)\n",
        "        # Skip connection 2.\n",
        "        encoded_patches = layers.Add()([x3, x2])\n",
        "\n",
        "    # Create a [batch_size, projection_dim] tensor.\n",
        "    representation = layers.LayerNormalization(epsilon=1e-6)(encoded_patches)\n",
        "    representation = layers.Flatten()(representation)\n",
        "    representation = layers.Dropout(0.5)(representation)\n",
        "    # Add MLP.\n",
        "    features = mlp(representation, hidden_units=mlp_head_units, dropout_rate=0.5)\n",
        "    # Classify outputs.\n",
        "    logits = layers.Dense(num_classes)(features)\n",
        "    # Create the Keras model.\n",
        "    model = keras.Model(inputs=inputs, outputs=logits)\n",
        "    return model\n",
        "\n",
        "def run_experiment(model):\n",
        "    optimizer = tfa.optimizers.AdamW(\n",
        "        learning_rate=learning_rate, weight_decay=weight_decay\n",
        "    )\n",
        "\n",
        "    model.compile(\n",
        "        optimizer=optimizer,\n",
        "        loss=keras.losses.SparseCategoricalCrossentropy(from_logits=True),\n",
        "        metrics=[\n",
        "            keras.metrics.SparseCategoricalAccuracy(name=\"accuracy\"),\n",
        "            keras.metrics.SparseTopKCategoricalAccuracy(5, name=\"top-5-accuracy\"),\n",
        "        ],\n",
        "    )\n",
        "\n",
        "    checkpoint_filepath = PATH+\"/checkpoint/checkpoint\"\n",
        "    checkpoint_callback = keras.callbacks.ModelCheckpoint(\n",
        "        checkpoint_filepath,\n",
        "        monitor=\"val_accuracy\",\n",
        "        save_best_only=True,\n",
        "        save_weights_only=True,\n",
        "    )\n",
        "\n",
        "    earlyStoppingCallback = keras.callbacks.EarlyStopping(patience=120, monitor='val_accuracy', restore_best_weights=True)\n",
        "\n",
        "    history = model.fit(\n",
        "        x=x_train,\n",
        "        y=y_train,\n",
        "        batch_size=batch_size,\n",
        "        epochs=num_epochs,\n",
        "        validation_split=0.1,\n",
        "        callbacks=[checkpoint_callback, earlyStoppingCallback],\n",
        "    )\n",
        "\n",
        "    model.load_weights(checkpoint_filepath)\n",
        "    _, accuracy, top_5_accuracy = model.evaluate(x_test, y_test)\n",
        "    print(f\"Test accuracy: {round(accuracy * 100, 2)}%\")\n",
        "    print(f\"Test top 5 accuracy: {round(top_5_accuracy * 100, 2)}%\")\n",
        "\n",
        "    return history\n",
        "\n",
        "\n",
        "vit_classifier = create_vit_classifier()\n",
        "history = run_experiment(vit_classifier)\n"
      ],
      "metadata": {
        "colab": {
          "base_uri": "https://localhost:8080/",
          "height": 404
        },
        "id": "D16bhVi11lPZ",
        "outputId": "675b3335-5d4c-426b-cbf0-bd1513149835"
      },
      "execution_count": 1,
      "outputs": [
        {
          "output_type": "error",
          "ename": "ModuleNotFoundError",
          "evalue": "No module named 'tensorflow_addons'",
          "traceback": [
            "\u001b[0;31m---------------------------------------------------------------------------\u001b[0m",
            "\u001b[0;31mModuleNotFoundError\u001b[0m                       Traceback (most recent call last)",
            "\u001b[0;32m<ipython-input-1-19d42986fb7e>\u001b[0m in \u001b[0;36m<cell line: 5>\u001b[0;34m()\u001b[0m\n\u001b[1;32m      3\u001b[0m \u001b[0;32mfrom\u001b[0m \u001b[0mtensorflow\u001b[0m \u001b[0;32mimport\u001b[0m \u001b[0mkeras\u001b[0m\u001b[0;34m\u001b[0m\u001b[0;34m\u001b[0m\u001b[0m\n\u001b[1;32m      4\u001b[0m \u001b[0;32mfrom\u001b[0m \u001b[0mtensorflow\u001b[0m\u001b[0;34m.\u001b[0m\u001b[0mkeras\u001b[0m \u001b[0;32mimport\u001b[0m \u001b[0mlayers\u001b[0m\u001b[0;34m\u001b[0m\u001b[0;34m\u001b[0m\u001b[0m\n\u001b[0;32m----> 5\u001b[0;31m \u001b[0;32mimport\u001b[0m \u001b[0mtensorflow_addons\u001b[0m \u001b[0;32mas\u001b[0m \u001b[0mtfa\u001b[0m\u001b[0;34m\u001b[0m\u001b[0;34m\u001b[0m\u001b[0m\n\u001b[0m\u001b[1;32m      6\u001b[0m \u001b[0;32mfrom\u001b[0m \u001b[0msklearn\u001b[0m\u001b[0;34m.\u001b[0m\u001b[0mmodel_selection\u001b[0m \u001b[0;32mimport\u001b[0m \u001b[0mtrain_test_split\u001b[0m\u001b[0;34m\u001b[0m\u001b[0;34m\u001b[0m\u001b[0m\n\u001b[1;32m      7\u001b[0m \u001b[0;32mfrom\u001b[0m \u001b[0msklearn\u001b[0m \u001b[0;32mimport\u001b[0m \u001b[0mpreprocessing\u001b[0m\u001b[0;34m\u001b[0m\u001b[0;34m\u001b[0m\u001b[0m\n",
            "\u001b[0;31mModuleNotFoundError\u001b[0m: No module named 'tensorflow_addons'",
            "",
            "\u001b[0;31m---------------------------------------------------------------------------\u001b[0;32m\nNOTE: If your import is failing due to a missing package, you can\nmanually install dependencies using either !pip or !apt.\n\nTo view examples of installing some common dependencies, click the\n\"Open Examples\" button below.\n\u001b[0;31m---------------------------------------------------------------------------\u001b[0m\n"
          ],
          "errorDetails": {
            "actions": [
              {
                "action": "open_url",
                "actionText": "Open Examples",
                "url": "/notebooks/snippets/importing_libraries.ipynb"
              }
            ]
          }
        }
      ]
    },
    {
      "cell_type": "code",
      "source": [
        "import json\n",
        "history_dict = history.history\n",
        "json.dump(history_dict, open('/content/Data/checkpoint/history_generated', 'w'))"
      ],
      "metadata": {
        "id": "v4kNaYufQkWK"
      },
      "execution_count": null,
      "outputs": []
    },
    {
      "cell_type": "code",
      "source": [
        "from sklearn.metrics import classification_report\n",
        "from sklearn.metrics import confusion_matrix, roc_curve, roc_auc_score, RocCurveDisplay, auc\n",
        "import seaborn as sns\n",
        "y_predict = vit_classifier.predict(x_test)\n",
        "y_pred = np.argmax(np.round(y_predict), axis=1)\n",
        "sns.heatmap(confusion_matrix(y_test, y_pred))\n",
        "print('\\nClassification Report:\\n', classification_report(y_test, y_pred))\n",
        "confusion_matrix_graph = confusion_matrix(y_test, y_pred)\n",
        "print(confusion_matrix_graph)"
      ],
      "metadata": {
        "id": "G598pb1Z_Uyu",
        "colab": {
          "base_uri": "https://localhost:8080/",
          "height": 727
        },
        "outputId": "a20e6d5d-5127-4c67-b4f6-a35b6f5f0e3e"
      },
      "execution_count": null,
      "outputs": [
        {
          "output_type": "stream",
          "name": "stdout",
          "text": [
            "1/1 [==============================] - 2s 2s/step\n",
            "\n",
            "Classification Report:\n",
            "               precision    recall  f1-score   support\n",
            "\n",
            "           0       1.00      1.00      1.00         3\n",
            "           1       1.00      0.75      0.86         4\n",
            "           2       0.67      1.00      0.80         2\n",
            "\n",
            "    accuracy                           0.89         9\n",
            "   macro avg       0.89      0.92      0.89         9\n",
            "weighted avg       0.93      0.89      0.89         9\n",
            "\n",
            "[[3 0 0]\n",
            " [0 3 1]\n",
            " [0 0 2]]\n"
          ]
        },
        {
          "output_type": "display_data",
          "data": {
            "text/plain": [
              "<Figure size 640x480 with 2 Axes>"
            ],
            "image/png": "[encoded data removed]"
          },
          "metadata": {}
        }
      ]
    }
  ]
}